{
 "cells": [
  {
   "cell_type": "code",
   "execution_count": 2,
   "metadata": {
    "collapsed": true
   },
   "outputs": [
    {
     "name": "stdout",
     "output_type": "stream",
     "text": [
      "1.0 - 0.42799081762927841max(0,AT - 0.7780999185) + 0.91045018302501991max(0,0.7780999185 - AT) - 0.114985301478947121max(0,RH - -2.1896157102) - 0.211387486922982151max(0,-2.1896157102 - RH) + 0.16181624753239591max(0,V - 1.3876569689) + 0.191437499410094861max(0,1.3876569689 - V) - 0.0297532269966455131max(0,AP - 0.1836944864) - 0.160249192863287261max(0,0.1836944864 - AP) + 0.033945974550292591max(0,0.1836944864 - AP)max(0,V - -0.4914901095) + 0.224809228559466641max(0,0.1836944864 - AP)max(0,-0.4914901095 - V) \n",
      "1.0 - 0.0297532269966455131max(0,AP - 0.1836944864) - 0.160249192863287261max(0,0.1836944864 - AP) + 0.033945974550292591max(0,0.1836944864 - AP)max(0,V - -0.4914901095) + 0.224809228559466641max(0,0.1836944864 - AP)max(0,-0.4914901095 - V) \n"
     ]
    }
   ],
   "source": [
    "import sys\n",
    "\n",
    "import numpy as np\n",
    "import pandas as pd\n",
    "\n",
    "from MARS import runMARSForward, runMARSBackward\n",
    "\n",
    "import logging\n",
    "import pickle\n",
    "\n",
    "from MARSModel import MARSModel\n",
    "\n",
    "SSR = 143.51850657834743\n",
    "\n",
    "df = pd.read_json('CCPP.json')\n",
    "X = df[['AT', 'V', 'AP', 'RH']].to_numpy()\n",
    "y = df['PE'].to_numpy()\n",
    "X = np.array(list(map(np.array, X)))\n",
    "X = X[:2500]\n",
    "y = y[:2500]\n",
    "labels = ['AT', 'V', 'AP', 'RH']\n",
    "\n",
    "with open(\"modell.pickle\", \"rb\") as infile:\n",
    "    model = pickle.load(infile) \n",
    "    m = MARSModel()\n",
    "    m.components = model\n",
    "    old = m.copy()\n",
    "    print(old)\n",
    "    newmodel = runMARSBackward(m, SSR, X, y, 5, maxSplits=8)\n",
    "    print(newmodel)\n"
   ]
  },
  {
   "cell_type": "code",
   "execution_count": 5,
   "metadata": {},
   "outputs": [],
   "source": [
    "import matplotlib.pyplot as plt\n",
    "import seaborn as sns\n",
    "from sklearn.decomposition import PCA\n",
    "\n",
    "pca = PCA(n_components=3)\n",
    "pca_result = pca.fit_transform(X)\n",
    "\n",
    "df = pd.DataFrame()\n",
    "\n",
    "df['pca-one'] = pca_result[:,0]\n",
    "df['pca-two'] = pca_result[:,1] \n",
    "df['pca-three'] = pca_result[:,2]\n",
    "df['y'] = y"
   ]
  },
  {
   "cell_type": "code",
   "execution_count": 7,
   "metadata": {},
   "outputs": [
    {
     "data": {
      "text/plain": [
       "[<matplotlib.lines.Line2D at 0x2ce0572f760>]"
      ]
     },
     "execution_count": 7,
     "metadata": {},
     "output_type": "execute_result"
    },
    {
     "data": {
      "image/png": "[encoded data removed]",
      "text/plain": [
       "<Figure size 432x288 with 1 Axes>"
      ]
     },
     "metadata": {
      "needs_background": "light"
     },
     "output_type": "display_data"
    }
   ],
   "source": [
    "newmodelv = []\n",
    "oldmodelv = []\n",
    "for i in range(len(X)):\n",
    "    obs = X[i]\n",
    "    dic = {0: obs[0], 1: obs[1], 2: obs[2], 3: obs[3]}\n",
    "    v = 0\n",
    "    for c in newmodel.components:\n",
    "        hinge_values = {v: dic[v] for v in c.func.getVariables()}\n",
    "        v += c.eval(hinge_values)\n",
    "    newmodelv.append(v)\n",
    "    d = 0\n",
    "    for c in old.components:\n",
    "        hinge_values = {v: dic[v] for v in c.func.getVariables()}\n",
    "        d += c.eval(hinge_values)\n",
    "    oldmodelv.append(d)\n",
    "\n",
    "plt.plot(newmodelv)"
   ]
  },
  {
   "cell_type": "code",
   "execution_count": null,
   "metadata": {},
   "outputs": [],
   "source": []
  }
 ],
 "metadata": {
  "kernelspec": {
   "display_name": "Python 3",
   "language": "python",
   "name": "python3"
  },
  "language_info": {
   "codemirror_mode": {
    "name": "ipython",
    "version": 3
   },
   "file_extension": ".py",
   "mimetype": "text/x-python",
   "name": "python",
   "nbconvert_exporter": "python",
   "pygments_lexer": "ipython3",
   "version": "3.8.5"
  }
 },
 "nbformat": 4,
 "nbformat_minor": 0
}