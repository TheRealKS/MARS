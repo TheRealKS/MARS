{
 "cells": [
  {
   "cell_type": "code",
   "execution_count": 1,
   "metadata": {},
   "outputs": [
    {
     "name": "stdout",
     "output_type": "stream",
     "text": [
      "         AT      V       AP     RH      PE\n",
      "0     14.96  41.76  1024.07  73.17  463.26\n",
      "1     25.18  62.96  1020.04  59.08  444.37\n",
      "2      5.11  39.40  1012.16  92.14  488.56\n",
      "3     20.86  57.32  1010.24  76.64  446.48\n",
      "4     10.82  37.50  1009.23  96.62  473.90\n",
      "...     ...    ...      ...    ...     ...\n",
      "9563  16.65  49.69  1014.01  91.00  460.03\n",
      "9564  13.19  39.18  1023.67  66.78  469.62\n",
      "9565  31.32  74.33  1012.92  36.48  429.57\n",
      "9566  24.48  69.45  1013.86  62.39  435.74\n",
      "9567  21.60  62.52  1017.23  67.87  453.28\n",
      "\n",
      "[9568 rows x 5 columns]\n"
     ]
    }
   ],
   "source": [
    "import pandas as pd\n",
    "\n",
    "data = pd.read_excel('CCPP/dawta.xlsx')\n",
    "data.to_json('CCPP_raw.json')\n",
    "print(data)\n"
   ]
  },
  {
   "cell_type": "code",
   "execution_count": 24,
   "metadata": {},
   "outputs": [
    {
     "name": "stdout",
     "output_type": "stream",
     "text": [
      "            AT         V        AP        RH        PE\n",
      "0    -0.629486 -0.987245  1.820393 -0.009519  0.521181\n",
      "1     0.741870  0.681010  1.141803 -0.974570 -0.585634\n",
      "2    -1.951195 -1.172956 -0.185068  1.289772  2.003574\n",
      "3     0.162197  0.237191 -0.508366  0.228148 -0.462003\n",
      "4    -1.185007 -1.322470 -0.678435  1.596616  1.144606\n",
      "...        ...       ...       ...       ...       ...\n",
      "9563 -0.402716 -0.363223  0.126444  1.211692  0.331927\n",
      "9564 -0.866992 -1.190268  1.753039 -0.447182  0.893830\n",
      "9565  1.565758  1.575729 -0.057096 -2.522486 -1.452805\n",
      "9566  0.647942  1.191716  0.101186 -0.747861 -1.091288\n",
      "9567  0.261493  0.646385  0.668642 -0.372526 -0.063574\n",
      "\n",
      "[9568 rows x 5 columns]\n"
     ]
    }
   ],
   "source": [
    "from sklearn.preprocessing import StandardScaler\n",
    "scaler = StandardScaler()\n",
    "\n",
    "data.iloc[:,0:] = data.iloc[:,0:].apply(lambda x: (x-x.mean())/ x.std(), axis=0)\n",
    "print(data)"
   ]
  },
  {
   "cell_type": "code",
   "execution_count": 25,
   "metadata": {},
   "outputs": [],
   "source": [
    "data.to_json('ccpp.json')"
   ]
  }
 ],
 "metadata": {
  "interpreter": {
   "hash": "163bb8d5987a0753d8a45b5389b798e8a36065bb7aa271f0a3973bd9218288f6"
  },
  "kernelspec": {
   "display_name": "Python 3.8.5 64-bit",
   "language": "python",
   "name": "python3"
  },
  "language_info": {
   "codemirror_mode": {
    "name": "ipython",
    "version": 3
   },
   "file_extension": ".py",
   "mimetype": "text/x-python",
   "name": "python",
   "nbconvert_exporter": "python",
   "pygments_lexer": "ipython3",
   "version": "3.8.5"
  },
  "orig_nbformat": 4
 },
 "nbformat": 4,
 "nbformat_minor": 2
}
